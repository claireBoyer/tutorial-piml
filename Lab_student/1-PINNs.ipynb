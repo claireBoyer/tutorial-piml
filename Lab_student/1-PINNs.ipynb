{
  "nbformat": 4,
  "nbformat_minor": 0,
  "metadata": {
    "colab": {
      "provenance": []
    },
    "kernelspec": {
      "name": "python3",
      "display_name": "Python 3"
    },
    "language_info": {
      "name": "python"
    }
  },
  "cells": [
    {
      "cell_type": "markdown",
      "source": [
        "# Introduction to Physics-informed neural networks"
      ],
      "metadata": {
        "id": "Dvl8v47Qm1N8"
      }
    },
    {
      "cell_type": "markdown",
      "source": [
        "## 1- Introduction to neural networks"
      ],
      "metadata": {
        "id": "dw-i7nSpnEHR"
      }
    },
    {
      "cell_type": "markdown",
      "source": [
        "**Parametric statistics.** In supervised learning, the goal is to learn a function $f^\\star$ linking the explanatory variable $X$ to the target variable $Y$, i.e., such that $Y = f^\\star(X)+\\epsilon$, where $\\epsilon$ is a random noise.\n",
        "In practice, $f^\\star$ is estimated by $f_{\\hat{\\theta}}$, where $\\hat{\\theta}$ is a minimizer of the empirical risk\n",
        "$$L(\\theta) = \\frac{1}{n}\\sum_{i=1}^n |f_\\theta(X_i)-Y_i|^2 + R(\\theta),$$\n",
        "where\n",
        "* $(X_1, Y_1), \\dots, (X_n,Y_n)$ are i.i.d. observations of $(X,Y)$,\n",
        "* the function class $\\{f_\\theta,\\; \\theta\\in \\Theta\\}$ is chosen to best approximate $f^\\star$,\n",
        "* $R(\\theta)$ is a regularization term (e.g., Ridge, LASSO...) tailored to avoid overfitting."
      ],
      "metadata": {
        "id": "V1jc2kWznpco"
      }
    },
    {
      "cell_type": "markdown",
      "source": [
        "**Neural networks.** Neural networks are a kind of parametric functions. They consist of a series of basic operations called *layers*, and the intermediate results of these layers are called the *neurons*. In what follows, we focus on *dense neural networks*, which are a succession of affine transformations and elementwise applications of the hyperbolic tangent (*tanh*) function."
      ],
      "metadata": {
        "id": "kGZouHqF1HGW"
      }
    },
    {
      "cell_type": "markdown",
      "source": [
        "**Question 1.** Let the function $f: \\mathbb R^2 \\to \\mathbb R$ be defined by\n",
        "$$f(t, x) = B_1 \\tanh(A_1 t + A_2 x + A_3) + B_2 \\tanh(A_4 t + A_5 x + A_6) + B_3 \\tanh(A_7 t + A_8 x + A_9) + B_4.$$\n",
        "\n",
        "a) Show that $f$ is a neural network.\n",
        "\n",
        "b) What is the parameter $\\theta$ such that $f = f_\\theta$?\n",
        "\n",
        "c) How many layers and neurons are there?\n",
        "\n"
      ],
      "metadata": {
        "id": "aqsDIbloiLn9"
      }
    },
    {
      "cell_type": "markdown",
      "source": [
        "**Answer.**\n",
        "<details>\n",
        "  <summary>  (Click to show)</summary>\n",
        "a) $f$ can be writen\n",
        "$$f(t,x) = B \\circ \\tanh \\circ A \\begin{pmatrix} t\\\\ x\\end{pmatrix}$$ where\n",
        "\n",
        "*  $A \\begin{pmatrix} t\\\\ x\\end{pmatrix}= \\begin{pmatrix} A_1 & A_2\\\\ A_4 & A_5 \\\\ A_7 & A_8\\end{pmatrix} \\begin{pmatrix} t\\\\ x\\end{pmatrix} + \\begin{pmatrix} A_3\\\\ A_6\\\\ A_9\\end{pmatrix},$ is an affine transformation\n",
        "* $\\tanh (x_1, x_2, x_3) = (\\tanh(x_1), \\tanh(x_2), \\tanh(x_3))$ is the elementwise application of the hyperbolic tangent,\n",
        "* the neurons $z_1, z_2, z_3$ of the first layer are defined by $\\begin{pmatrix} z_1\\\\ z_2\\\\z_3\\end{pmatrix} =  \\tanh \\circ A \\begin{pmatrix} t\\\\ x\\end{pmatrix}$,\n",
        "* and\n",
        "$B \\begin{pmatrix} z_1\\\\ z_2\\\\z_3\\end{pmatrix}= \\begin{pmatrix} B_1 & B_2 & B_3\\end{pmatrix} \\begin{pmatrix} z_1\\\\ z_2\\\\ z_3\\end{pmatrix} + B_4$ is an affine transformation.\n",
        "\n",
        "b) Here, the parameter $\\theta$ are the parameters $(A_1, \\dots, A_9, B_1, \\dots, B_4)$ of the affine transformations.\n",
        "\n",
        "c) Since the output space of $A: \\mathbb R^2 \\to \\mathbb R^3$ is of dimension 3, there are 3 neurons in the first layers. Since we apply the activation function, tanh, only once, there is only one layer. Therefore, there is one layer with three neurons.\n",
        "</details>"
      ],
      "metadata": {
        "id": "e439LwkNiZup"
      }
    },
    {
      "cell_type": "markdown",
      "source": [
        "Neural networks are popular because they are a class of nonlinear functions, and computing their derivatives can be done efficiently using the so-called *backpropagation* algorithm. Most neural networks are implemented using the *Python* programming language. Currently, the two most popular deep learning libraries are *PyTorch* (torch) and *Tensorflow* (tf). In this tutorial, we will use PyTorch."
      ],
      "metadata": {
        "id": "81mYL6gTiNMl"
      }
    },
    {
      "cell_type": "code",
      "source": [
        "import torch\n",
        "import torch.nn as nn\n",
        "import numpy as np\n",
        "import matplotlib.pyplot as plt"
      ],
      "metadata": {
        "id": "-bkYkJ3AERag"
      },
      "execution_count": null,
      "outputs": []
    },
    {
      "cell_type": "markdown",
      "source": [
        "In what follows, we will rely heavily on the generation of random numbers. For example, when initializing a neural network, the weights are sampled according to a Gaussian distribution.\n",
        "To ensure reproducibility of the results, we must keep track of the random numbers generated. We define a number, called a *seed*, which completely determines how the random number generator will be initialized.\n",
        "Using the same seed will produce the same outputs."
      ],
      "metadata": {
        "id": "EXjHLL5ZETD5"
      }
    },
    {
      "cell_type": "code",
      "source": [
        "torch.manual_seed(314)"
      ],
      "metadata": {
        "colab": {
          "base_uri": "https://localhost:8080/"
        },
        "id": "HBFj4BSoEYmW",
        "outputId": "1a9463e4-8f3e-4b2c-9bd3-852c7e2ac1f1"
      },
      "execution_count": null,
      "outputs": [
        {
          "output_type": "execute_result",
          "data": {
            "text/plain": [
              "<torch._C.Generator at 0x7b06b8547090>"
            ]
          },
          "metadata": {},
          "execution_count": 12
        }
      ]
    },
    {
      "cell_type": "code",
      "execution_count": null,
      "metadata": {
        "id": "LdMeoptxmvm-"
      },
      "outputs": [],
      "source": [
        "# The next line means that we define a new type, called \"NeuralNet\", based on the\n",
        "# structure of the neural network \"nn.Module\".\n",
        "class NeuralNet(nn.Module):\n",
        "\n",
        "# This new object will come with two functions \"__init__\" and \"forward\".\n",
        "# \"__init__\" is useful to give an initial value to the variable \"NeuralNet\".\n",
        "\n",
        "    def __init__(self):\n",
        "        super(NeuralNet, self).__init__()\n",
        "\n",
        "        # Here, we define the structure of the neural network.\n",
        "        self.net = nn.Sequential(\n",
        "            nn.Linear(2, 10),\n",
        "            nn.Tanh(),\n",
        "            nn.Linear(10, 10),\n",
        "            nn.Tanh(),\n",
        "            nn.Linear(10, 10),\n",
        "            nn.Tanh(),\n",
        "            nn.Linear(10, 1)\n",
        "        )\n",
        "\n",
        "    def forward(self, t, x):\n",
        "        input = torch.cat([t, x], dim=1)\n",
        "        return self.net(input)"
      ]
    },
    {
      "cell_type": "markdown",
      "source": [
        "**Question 2.** Detail the architecture of this neural network."
      ],
      "metadata": {
        "id": "el9AXNUHaYVv"
      }
    },
    {
      "cell_type": "markdown",
      "source": [
        "**Answer.**\n",
        "<details>\n",
        "  <summary>  (Click to show)</summary>\n",
        "This neural network is a *dense* neural network with 3 layers, since we apply the activation function $\\tanh$ three times. Each layer contains 10 neurons.\n",
        "</details>"
      ],
      "metadata": {
        "id": "U8mqoRBcaicO"
      }
    },
    {
      "cell_type": "markdown",
      "source": [
        "**GPU programming.** Graphics processing units (GPUs) are specialized electronic circuits designed to run some basic linear algebra operations more efficiently than cheaper, more common central processing units (CPUs). GPUs rely on both parallelization and efficient memory allocation. Pytorch provides a very simple way to run code on a GPU. The following command automatically detects whether a GPU is available, and sets the *device* variable to either the available GPU, or the CPU if no GPU is available."
      ],
      "metadata": {
        "id": "togSPg-81LG4"
      }
    },
    {
      "cell_type": "code",
      "source": [
        "# Detect a NVIDIA GPU\n",
        "device = torch.device(\"cuda\" if torch.cuda.is_available() else \"cpu\")"
      ],
      "metadata": {
        "id": "O14dUurxnLL6"
      },
      "execution_count": null,
      "outputs": []
    },
    {
      "cell_type": "markdown",
      "source": [
        "For MacOS users who want to use their M1, M2, or M3 GPU, the command is as follows."
      ],
      "metadata": {
        "id": "Oy6JaYmnCf7h"
      }
    },
    {
      "cell_type": "code",
      "source": [
        "# Detect a GPU on MacOS computers\n",
        "device = torch.device(\"mps\" if torch.backends.mps.is_available() else \"cpu\")"
      ],
      "metadata": {
        "id": "lX5Y1JSSCrjO"
      },
      "execution_count": null,
      "outputs": []
    },
    {
      "cell_type": "markdown",
      "source": [
        "Then, the following line automatically samples a 2x2 array of uniform random variables on the *device*."
      ],
      "metadata": {
        "id": "p_1fJptwA-0O"
      }
    },
    {
      "cell_type": "code",
      "source": [
        "test_variable = torch.rand(2, 2, device=device)\n",
        "print(test_variable)"
      ],
      "metadata": {
        "colab": {
          "base_uri": "https://localhost:8080/"
        },
        "id": "tRg_CUpfA6F-",
        "outputId": "a5fc9136-f83b-4394-8897-b7c99d24e774"
      },
      "execution_count": null,
      "outputs": [
        {
          "output_type": "stream",
          "name": "stdout",
          "text": [
            "tensor([[0.7196, 0.6295],\n",
            "        [0.6667, 0.3385]])\n"
          ]
        }
      ]
    },
    {
      "cell_type": "markdown",
      "source": [
        "Note how lists of numbers are referred to as *tensors* in the PyTorch framework.\n",
        "Tensors can represent many objects of linear algebra. For example,\n",
        "\n",
        "* the vector $(1, 4)$ corresponds to $\\hbox{tensor}([1, 4])$ of shape $(2,)$,\n",
        "* the vector $\\begin{pmatrix}1\\\\ 4\\end{pmatrix}$  corresponds to $\\hbox{tensor}([[1], [4]])$ of shape $(2,1)$,\n",
        "* the matrix $\\begin{pmatrix}1& 3\\\\ 4& -1\\end{pmatrix}$ corresponds to $\\hbox{tensor}([[1, 3], [4, -1]])$ of shape $(2,2)$.\n",
        "\n",
        "We say that a tensor is of size $(*, 1)$ if its size is of the form $(n, 1)$.\n",
        "Tensors supports various types of linear functions like\n",
        "\n",
        "* addition and subtraction, encodes by the symbols + and -\n",
        "* matrix-matrix and matrix-vector multiplications, encoded by the symbol @\n",
        "* elementwise multiplication, encoded by the symbol *"
      ],
      "metadata": {
        "id": "1exyj5vUUTs2"
      }
    },
    {
      "cell_type": "markdown",
      "source": [
        "## 2- PDE solving with PINNs"
      ],
      "metadata": {
        "id": "h1AdKxVDnLmW"
      }
    },
    {
      "cell_type": "markdown",
      "source": [
        "**PDE solving.** Here, we apply the tools from parametric statistics with neural networks to solve PDEs. To give a concrete example, let's solve the heat equation\n",
        "$$\\partial_1 f = \\partial^2_{2,2} f$$\n",
        "on the square $[0,1]^2$, with\n",
        "* the boundary conditions $$\\forall t\\in [0,1],\\; f(t, 0) = f(t, 1) = 0,$$\n",
        "* and the initial conditions $$\\forall x\\in [0,1],\\; f(0, x) = \\sin(\\pi x).$$"
      ],
      "metadata": {
        "id": "71R_QOfCxUmx"
      }
    },
    {
      "cell_type": "markdown",
      "source": [
        "To solve this PDE, the *physics-informed neural networks* (PINNs) approach consists in minimizing the loss\n",
        "$$L(\\theta) = \\frac{1}{n_i}\\sum_{i=1}^{n_i}(f_\\theta(0, X^{(ini)}_i)-\\sin(\\pi X^{(ini)}_i))^2 + \\frac{1}{n_b}\\sum_{j=1}^{n_b}f_\\theta(T^{(b)}_j, 0)^2 + \\frac{1}{n_c}\\sum_{k=1}^{n_c}(\\partial_t f_\\theta(T^{(c)}_k, X^{(c)}_k)-\\partial^2_{x,x} f_\\theta(T^{(c)}_k, X^{(c)}_k))^2,$$\n",
        "where the points $X^{(ini)}_i$, $T^{(b)}_j$, $T^{(c)}_k$, and $X^{(c)}_k$ are independent and sampled along the uniform distribution on $[0,1]$."
      ],
      "metadata": {
        "id": "dhTijVfxH0CT"
      }
    },
    {
      "cell_type": "markdown",
      "source": [
        "**Question 3.** Given a fixed parameter $\\theta$, what is the limit of $L(\\theta)$ as $n_i, n_b, n_c \\to \\infty$?"
      ],
      "metadata": {
        "id": "_FNL3uNjaPFi"
      }
    },
    {
      "cell_type": "markdown",
      "source": [
        "**Answer.**\n",
        "<details>\n",
        "  <summary>  (Click to show)</summary>\n",
        "The law of large number states that the empirical risk $L(\\theta)$ converges almost surely to the theoretical risk $R(\\theta)$ defined by\n",
        "$$\\lim_{n_b, n_c \\to \\infty} L(\\theta) = R(\\theta) = \\int_0^1(f_\\theta(0, x)-\\sin(\\pi x))^2dx + \\int_0^1 f_\\theta(t, 0)^2dt + \\int_0^1(\\partial_t f_\\theta(t,x)-\\partial^2_{x,x} f_\\theta(t,x))^2dtdx.$$\n",
        "</details>"
      ],
      "metadata": {
        "id": "3jeNPL1nbIl8"
      }
    },
    {
      "cell_type": "markdown",
      "source": [
        "**Question 4.** Let $R(\\theta) = \\lim_{n_i, n_b, n_c\\to \\infty} L(\\theta)$. Why does minimizing $R$ amounts to solving the PDE?"
      ],
      "metadata": {
        "id": "Ui32Z5Nnb8IO"
      }
    },
    {
      "cell_type": "markdown",
      "source": [
        "**Answer.**\n",
        "<details>\n",
        "  <summary>  (Click to show)</summary>\n",
        "Note that $\\forall \\theta, \\;R(\\theta) \\geq 0$. Morevoer, $R(\\theta) = 0$ if and only if $f_\\theta$ satifies the initial conditions, the boundary conditions, and the PDE.\n",
        "</details>"
      ],
      "metadata": {
        "id": "xVXj4XPVcd4f"
      }
    },
    {
      "cell_type": "markdown",
      "source": [
        "**Question 5.** Implement a function *pde_residual* computing the PDE residual $\\partial_t u - \\partial^2_{x,x}u$, where $u$ is a neural network. To do so, use the following framework of Pytorch, which allows to compute the derivarive of $u$ with respect to a variable $t$."
      ],
      "metadata": {
        "id": "uO0Tq_eUdCp6"
      }
    },
    {
      "cell_type": "code",
      "source": [
        "# PDE residual\n",
        "def pde_residual(model, t, x):\n",
        "    # t and x are tensors of size (*, 1)\n",
        "    u = model(t, x) # Evaluate the neural network u at the values where you want to compute the derivatives\n",
        "    t.requires_grad_(True) # Allows to compute the derivative with respect to the variable t\n",
        "\n",
        "    u_t = torch.autograd.grad(u, t, grad_outputs=torch.ones_like(u), retain_graph=True, create_graph=True)[0]\n",
        "    # Compute the gradient of u with respect to t.\n",
        "    # Grad_outputs specify the shape of the gradient.\n",
        "    # retain_graph allows to differentiate multiple times.\n",
        "\n",
        "    ### TO DO ###########\n",
        "    u_x = ...\n",
        "    u_xx = ...\n",
        "    ####################\n",
        "    return u_t - u_xx"
      ],
      "metadata": {
        "id": "THHwa6D0eGI-"
      },
      "execution_count": null,
      "outputs": []
    },
    {
      "cell_type": "markdown",
      "source": [
        "**Question 6.** Implement a function that generates the training data using the following functions from the *torch* library: *rand*, *randn*, *zeros*, *ones*, *linspace*, and *sin*. As is typical with neural networks, all tensors must be of shape $(*, 1)$."
      ],
      "metadata": {
        "id": "9dXHDLoifZ0Y"
      }
    },
    {
      "cell_type": "code",
      "source": [
        "# Training data\n",
        "def generate_training_data(N_f=10**4, N_b=10**2, N_i=10**2):\n",
        "    # Collocation points (interior)\n",
        "    t_f = torch.rand(N_f, 1, device=device)\n",
        "    x_f = ...\n",
        "\n",
        "    # Boundary conditions\n",
        "    t_b = ...\n",
        "    x_b0 = ...\n",
        "    x_b1 = ...\n",
        "\n",
        "    # Initial condition\n",
        "    x_i = ...\n",
        "    t_i = ...\n",
        "    u_i = ...\n",
        "\n",
        "    return t_f, x_f, t_b, x_b0, x_b1, t_i, x_i, u_i"
      ],
      "metadata": {
        "id": "TIfYiC7Sf_1O"
      },
      "execution_count": null,
      "outputs": []
    },
    {
      "cell_type": "markdown",
      "source": [
        "**Question 7.** Implement the gradient descent to train the neural network."
      ],
      "metadata": {
        "id": "gie2d7I3gpeM"
      }
    },
    {
      "cell_type": "code",
      "source": [
        "# Training loop\n",
        "def train(model, epochs=5000, lr=1e-3):\n",
        "    model.train()\n",
        "    optimizer = torch.optim.Adam(model.parameters(), lr=lr)\n",
        "\n",
        "    t_f, x_f, t_b, x_b0, x_b1, t_i, x_i, u_i = generate_training_data(N_f=10**4, N_b=10**2, N_i=10**2)\n",
        "\n",
        "    for epoch in range(epochs):\n",
        "\n",
        "        optimizer.zero_grad()\n",
        "\n",
        "        ### TO DO ###########\n",
        "\n",
        "        # PDE residual loss\n",
        "        loss_f = ...\n",
        "\n",
        "        # Boundary condition loss\n",
        "        loss_b = ...\n",
        "\n",
        "        # Initial condition loss\n",
        "        loss_i = ...\n",
        "\n",
        "        ### END TO DO ###########\n",
        "\n",
        "        loss = loss_f + loss_b + loss_i\n",
        "        loss.backward()\n",
        "        optimizer.step()\n",
        "\n",
        "        if epoch % 500 == 0:\n",
        "            print(f\"Epoch {epoch}, Loss: {loss.item():.4e}\")\n",
        "\n",
        "    print(\"Training complete.\")"
      ],
      "metadata": {
        "id": "RV3oIxPugzOW"
      },
      "execution_count": null,
      "outputs": []
    },
    {
      "cell_type": "markdown",
      "source": [
        "**Question 8.** Reset the seed to 314. Then, train your neural network."
      ],
      "metadata": {
        "id": "czoKuhV6hHzU"
      }
    },
    {
      "cell_type": "code",
      "source": [],
      "metadata": {
        "id": "WSQnYBgLbWoF"
      },
      "execution_count": null,
      "outputs": []
    },
    {
      "cell_type": "markdown",
      "source": [
        "**Analytical solutions.**\n",
        "To estimate the performance of the PINN, we can compare its outputs with the unique solution $f^\\star$ of the PDE $$f^\\star(t,x) = \\exp(-\\pi^2 t)\\sin(\\pi x).$$"
      ],
      "metadata": {
        "id": "GGqxv33EyhhR"
      }
    },
    {
      "cell_type": "markdown",
      "source": [
        "**Question 9.** Check that $f^\\star$ is indeed a solution of the PDE."
      ],
      "metadata": {
        "id": "YtjCuiUahrtM"
      }
    },
    {
      "cell_type": "markdown",
      "source": [
        "**Answer.**\n",
        "<details>\n",
        "  <summary>  (Click to show)</summary>\n",
        "On the one hand,\n",
        "$$\\partial_t f = -\\pi^2 f.$$\n",
        "On the other hanf,\n",
        "$$\\partial^2_{x,x} f = -\\pi^2 f.$$\n",
        "Thus, $\\partial_t f = \\partial^2_{x,x} f$.\n",
        "</details>"
      ],
      "metadata": {
        "id": "2j9Aofbfhz8R"
      }
    },
    {
      "cell_type": "markdown",
      "source": [
        "**Question 10.** Using three plots, plot the functions $f^\\star$, the PINN, and the error $|\\hbox{PINN}-f^\\star|$. Compute the Mean Average Error (MAE) $$MAE = \\frac{1}{100^2}\\sum_{k=0}^{100} \\sum_{\\ell=0}^{100} |\\hbox{PINN}(k/100, \\ell/100)-f^\\star(k/100, \\ell/100)|.$$"
      ],
      "metadata": {
        "id": "4i_ijxeHicwF"
      }
    },
    {
      "cell_type": "code",
      "source": [
        "def plot(model):\n",
        "  ### TO DO ###########"
      ],
      "metadata": {
        "id": "4SOPmMJYzwNF"
      },
      "execution_count": null,
      "outputs": []
    },
    {
      "cell_type": "code",
      "source": [
        "plot(model)"
      ],
      "metadata": {
        "id": "I2fE_Slp8tgW"
      },
      "execution_count": null,
      "outputs": []
    },
    {
      "cell_type": "markdown",
      "source": [
        "# 3- Some basic improvements over vanilla PINNs\n",
        "\n",
        "There are many ways to improve this implementation, but which complicates the understanding of the code baseline.\n",
        "For instance, instead of fixing the collocation points, and the points penalizing the boundary and initial conditions, we can sample new points at each epoch. This has the advantage of both increasing the number of available data while reducing overfitting."
      ],
      "metadata": {
        "id": "48zd0eQ-7I4E"
      }
    },
    {
      "cell_type": "markdown",
      "source": [
        "**Question 11.** Implement this PINN where data are resampled at each epoch."
      ],
      "metadata": {
        "id": "7lBqCrVVjcbp"
      }
    },
    {
      "cell_type": "code",
      "source": [
        "def train_2(model, epochs=5000, lr=1e-3):\n",
        "  ### TO DO ###########\n"
      ],
      "metadata": {
        "id": "bxuKt58_8KJ-"
      },
      "execution_count": null,
      "outputs": []
    },
    {
      "cell_type": "markdown",
      "source": [
        "**Question 12.** Train your model and compare its MAE with the other PINN."
      ],
      "metadata": {
        "id": "iO67OzQnjt2x"
      }
    },
    {
      "cell_type": "code",
      "source": [
        "### TO DO ###########"
      ],
      "metadata": {
        "id": "3tJry4Uh8r4G"
      },
      "execution_count": null,
      "outputs": []
    },
    {
      "cell_type": "markdown",
      "source": [
        "## 4- Hybrid modelling"
      ],
      "metadata": {
        "id": "8q9pTTdanQLQ"
      }
    },
    {
      "cell_type": "markdown",
      "source": [
        "**Hybrid modelling.** Here, we assume not to know the boundary conditions entirely. Instead, we have at hand $n$ i.i.d. observations $(T_1, X_1, Y_1)$, $\\dots$, $(T_n, X_n, Y_n)$ such that\n",
        "\n",
        "* $(T, X$) follows the uniform distribution on $[0,1]^2$\n",
        "* $Y = f^\\star(T, X)+\\epsilon$,  \n",
        "* and $f^\\star$ is a solution to the heat equation $$\\partial_1 f = \\partial^2_{2,2} f.$$\n",
        "\n",
        "In the next example, the unknown function $f^\\star$ is once again\n",
        "$$f^\\star(t,x) = \\exp(-\\pi^2t)\\sin(\\pi x)$$\n",
        "and $\\epsilon$ is a gaussian noise $N(0,1)$."
      ],
      "metadata": {
        "id": "_bqNWsv9JRQN"
      }
    },
    {
      "cell_type": "markdown",
      "source": [
        "**Question 13.** Which empirical loss corresponds to this problem?"
      ],
      "metadata": {
        "id": "jLkIM7Y882_T"
      }
    },
    {
      "cell_type": "markdown",
      "source": [
        "**Answer.**\n",
        "<details>\n",
        "  <summary>  (Click to show)</summary>\n",
        "$$L(\\theta) = \\frac{1}{n}\\sum_{i=1}^{n}(f_\\theta(T_i, X_i)-Y_i))^2 + \\frac{\\lambda_c}{n_c}\\sum_{k=1}^{n_c}(\\partial_t f_\\theta(T^{(c)}_k, X^{(c)}_k)-\\partial^2_{x,x} f_\\theta(T^{(c)}_k, X^{(c)}_k))^2,$$\n",
        "where the points $T^{(c)}_k$ and $X^{(c)}_k$ are independent and sampled along the uniform distribution on $[0,1]$. $\\lambda_n \\geq 0$ is an hyperparameter weighting the importance of the PDE penalty.\n",
        "</details>"
      ],
      "metadata": {
        "id": "7OBvufZT872b"
      }
    },
    {
      "cell_type": "markdown",
      "source": [
        "**Question 14.** Implement a function to generate the training data using the functions *rand*, *randn*, *zeros*, *ones*, *linspace* and *sin* of the *torch* library. As usual with neural networks, all tensors must be of shape $(*, 1)$."
      ],
      "metadata": {
        "id": "vtim5VLD7iFe"
      }
    },
    {
      "cell_type": "code",
      "source": [
        "# Training data\n",
        "def generate_training_data_2(N_f=10**4, N_data=10**2, sigma=0.1):\n",
        "    ### TO DO ###########\n",
        "    # Collocation points (interior)\n",
        "    t_f = ...\n",
        "    x_f = ...\n",
        "\n",
        "    # Data points\n",
        "    t = ...\n",
        "    x = ...\n",
        "    y = ...\n",
        "\n",
        "    ### END TO DO ###########\n",
        "    return t_f, x_f, t, x, y\n"
      ],
      "metadata": {
        "id": "v13rZW6a79qS"
      },
      "execution_count": null,
      "outputs": []
    },
    {
      "cell_type": "markdown",
      "source": [
        "**Question 15.** To assess the impact of using the physical a priori on the learning performance, implement two algorithms: one which uses the physical penalty (i.e., $\\lambda_n > 0$) and one which does not (i.e., $\\lambda_n = 0$)."
      ],
      "metadata": {
        "id": "uVKFqDxk8dIf"
      }
    },
    {
      "cell_type": "code",
      "source": [
        "def train_without_PDE(model, epochs=5000, lr=1e-3):\n",
        "    ### TO DO ###########\n",
        "def train_hybrid(model, epochs=5000, lr=1e-3):\n",
        "    ### TO DO ###########"
      ],
      "metadata": {
        "id": "iVHYboRwnNdL"
      },
      "execution_count": null,
      "outputs": []
    },
    {
      "cell_type": "markdown",
      "source": [
        "**Question 16.** Compare their performance."
      ],
      "metadata": {
        "id": "jQdzi-ni9qE1"
      }
    },
    {
      "cell_type": "code",
      "source": [
        "### TO DO ###########"
      ],
      "metadata": {
        "id": "fEhi_aPISBxf"
      },
      "execution_count": null,
      "outputs": []
    },
    {
      "cell_type": "markdown",
      "source": [
        "# 5- PINNs overfitting"
      ],
      "metadata": {
        "id": "rIZtEGuU9OZz"
      }
    },
    {
      "cell_type": "markdown",
      "source": [
        "The following code is an implementation of the ridge / Sobolev penalized PINN."
      ],
      "metadata": {
        "id": "O11HSdLmQXDl"
      }
    },
    {
      "cell_type": "code",
      "source": [
        "def sobolev_loss(model, t, x):\n",
        "    t.requires_grad_(True)\n",
        "    x.requires_grad_(True)\n",
        "    u = model(t, x)\n",
        "\n",
        "    u_t = torch.autograd.grad(u, t, grad_outputs=torch.ones_like(u), retain_graph=True, create_graph=True)[0]\n",
        "    u_x = torch.autograd.grad(u, x, grad_outputs=torch.ones_like(u), retain_graph=True, create_graph=True)[0]\n",
        "    u_tx =torch.autograd.grad(u_t, x, grad_outputs=torch.ones_like(u),  create_graph=True)[0]\n",
        "    u_xx = torch.autograd.grad(u_x, x, grad_outputs=torch.ones_like(u), create_graph=True)[0]\n",
        "    u_tt = torch.autograd.grad(u_t, t, grad_outputs=torch.ones_like(u), create_graph=True)[0]\n",
        "\n",
        "    return torch.mean(u**2+u_t**2 + u_x**2+ u_xx**2+ u_tx**2+u_tt**2)"
      ],
      "metadata": {
        "id": "h1GZojjPr75m"
      },
      "execution_count": null,
      "outputs": []
    },
    {
      "cell_type": "code",
      "source": [
        "class NeuralNet2(nn.Module):\n",
        "\n",
        "# This new object will come with two functions \"__init__\" and \"forward\".\n",
        "# \"__init__\" is useful to give an initial value to the variable \"NeuralNet\".\n",
        "\n",
        "    def __init__(self):\n",
        "        super(NeuralNet2, self).__init__()\n",
        "\n",
        "        # Here, we define the structure of the neural network.\n",
        "        self.net = nn.Sequential(\n",
        "            nn.Linear(2, 30),\n",
        "            nn.Tanh(),\n",
        "            nn.Linear(30, 30),\n",
        "            nn.Tanh(),\n",
        "            nn.Linear(30, 1)\n",
        "        )\n",
        "\n",
        "    def forward(self, t, x):\n",
        "        input = torch.cat([t, x], dim=1)\n",
        "        return self.net(input)\n",
        "\n",
        "\n",
        "def train_hybrid_2(model, epochs=5*10**3+1, lr=1e-3, weight_decay=0, lambda_s=0):\n",
        "    model.train()\n",
        "    optimizer = torch.optim.Adam(model.parameters(), lr=lr, weight_decay=weight_decay)\n",
        "\n",
        "    t_f, x_f, t, x, y = generate_training_data_2(N_f=10**3, N_data=10**1)\n",
        "\n",
        "    # Evaluate on a grid\n",
        "    t_vals = torch.linspace(0, 1, 100)\n",
        "    x_vals = torch.linspace(0, 1, 100)\n",
        "    T, X = torch.meshgrid(t_vals, x_vals, indexing='ij')\n",
        "    t_flat = T.reshape(-1, 1).to(device)\n",
        "    x_flat = X.reshape(-1, 1).to(device)\n",
        "\n",
        "    #Lists of errors\n",
        "    training_error = []\n",
        "    validation_error = []\n",
        "\n",
        "    for epoch in range(epochs):\n",
        "        model.train()\n",
        "        optimizer.zero_grad()\n",
        "\n",
        "        # PDE residual loss\n",
        "        f = pde_residual(model, t_f, x_f)\n",
        "        loss_f = torch.mean(f**2)\n",
        "\n",
        "        # Data loss\n",
        "        u_pred = model(t, x)\n",
        "        loss_data = torch.mean((u_pred - y)**2)\n",
        "\n",
        "        # Sobolev loss\n",
        "        loss_sobolev = sobolev_loss(model, t_f, x_f)\n",
        "\n",
        "        loss = loss_f + loss_data + lambda_s*loss_sobolev\n",
        "        loss.backward()\n",
        "        optimizer.step()\n",
        "\n",
        "        if epoch % 500 == 0:\n",
        "            print(f\"Epoch {epoch}, Loss: {loss.item():.4e}\")\n",
        "            print(f\"Epoch {epoch}, Loss data: {loss_data.item():.4e}\")\n",
        "\n",
        "\n",
        "\n",
        "            # PINN prediction\n",
        "            model.eval()\n",
        "            with torch.no_grad():\n",
        "                u_pred = model(t_flat, x_flat)\n",
        "\n",
        "            # Analytical solution\n",
        "            u_true = torch.exp(-np.pi**2 * t_flat) * np.sin(np.pi * x_flat)\n",
        "\n",
        "            # Difference\n",
        "            err = torch.mean(torch.square(u_pred - u_true))\n",
        "            print(f\"Epoch {epoch}, Validation MSE: {err.item():.4e}\")\n",
        "\n",
        "            training_error.append(loss_data.item())\n",
        "            validation_error.append(err.item())\n",
        "\n",
        "    print(\"Training complete.\")\n",
        "    return training_error, validation_error"
      ],
      "metadata": {
        "id": "tpzW5-Isrzs0"
      },
      "execution_count": null,
      "outputs": []
    },
    {
      "cell_type": "code",
      "source": [
        "training_wd, validation_wd =[],[]\n",
        "training, validation =[],[]\n",
        "\n",
        "for i in range(5):\n",
        "  torch.manual_seed(i)\n",
        "  print(\"With weight decay \", i+1)\n",
        "  model = NeuralNet2().to(device)\n",
        "  training_error_wd, validation_error_wd = train_hybrid_2(model, weight_decay=10**-3, lambda_s=5*10**-2)\n",
        "  training_wd.append(training_error_wd)\n",
        "  validation_wd.append(validation_error_wd)\n",
        "\n",
        "  torch.manual_seed(i)\n",
        "  print(\"Without wd \", i+1)\n",
        "  model_2 = NeuralNet2().to(device)\n",
        "\n",
        "  training_error, validation_error = train_hybrid_2(model_2)\n",
        "  training.append(training_error)\n",
        "  validation.append(validation_error)\n",
        "\n"
      ],
      "metadata": {
        "colab": {
          "base_uri": "https://localhost:8080/"
        },
        "id": "Qhweegmh_fW8",
        "outputId": "a3dd7cf9-14e1-4fc7-da3d-fd35b3a717fd"
      },
      "execution_count": null,
      "outputs": [
        {
          "output_type": "stream",
          "name": "stdout",
          "text": [
            "With weight decay  1\n",
            "Epoch 0, Loss: 5.7626e-02\n",
            "Epoch 0, Loss data: 2.9067e-02\n",
            "Epoch 0, Validation MSE: 4.0346e-02\n"
          ]
        },
        {
          "output_type": "stream",
          "name": "stderr",
          "text": [
            "<ipython-input-12-93e5be92c437>:10: DeprecationWarning: __array_wrap__ must accept context and return_scalar arguments (positionally) in the future. (Deprecated NumPy 2.0)\n",
            "  y = np.exp(-np.pi**2 * t) * np.sin(np.pi * x)+sigma*torch.randn(N_data,1, device=device)\n",
            "<ipython-input-101-69a5afa3355b>:83: DeprecationWarning: __array_wrap__ must accept context and return_scalar arguments (positionally) in the future. (Deprecated NumPy 2.0)\n",
            "  u_true = torch.exp(-np.pi**2 * t_flat) * np.sin(np.pi * x_flat)\n"
          ]
        },
        {
          "output_type": "stream",
          "name": "stdout",
          "text": [
            "Epoch 500, Loss: 1.0933e-02\n",
            "Epoch 500, Loss data: 1.0856e-02\n",
            "Epoch 500, Validation MSE: 2.6357e-02\n",
            "Epoch 1000, Loss: 1.0940e-02\n",
            "Epoch 1000, Loss data: 1.0875e-02\n",
            "Epoch 1000, Validation MSE: 2.6513e-02\n",
            "Epoch 1500, Loss: 1.0950e-02\n",
            "Epoch 1500, Loss data: 1.0896e-02\n",
            "Epoch 1500, Validation MSE: 2.6607e-02\n",
            "Epoch 2000, Loss: 1.0961e-02\n",
            "Epoch 2000, Loss data: 1.0920e-02\n",
            "Epoch 2000, Validation MSE: 2.6642e-02\n",
            "Epoch 2500, Loss: 1.0969e-02\n",
            "Epoch 2500, Loss data: 1.0936e-02\n",
            "Epoch 2500, Validation MSE: 2.6648e-02\n",
            "Epoch 3000, Loss: 1.0974e-02\n",
            "Epoch 3000, Loss data: 1.0944e-02\n",
            "Epoch 3000, Validation MSE: 2.6648e-02\n",
            "Epoch 3500, Loss: 1.0978e-02\n",
            "Epoch 3500, Loss data: 1.0951e-02\n",
            "Epoch 3500, Validation MSE: 2.6646e-02\n",
            "Epoch 4000, Loss: 1.0981e-02\n",
            "Epoch 4000, Loss data: 1.0956e-02\n",
            "Epoch 4000, Validation MSE: 2.6644e-02\n",
            "Epoch 4500, Loss: 1.0983e-02\n",
            "Epoch 4500, Loss data: 1.0959e-02\n",
            "Epoch 4500, Validation MSE: 2.6643e-02\n",
            "Epoch 5000, Loss: 1.0984e-02\n",
            "Epoch 5000, Loss data: 1.0961e-02\n",
            "Epoch 5000, Validation MSE: 2.6642e-02\n",
            "Training complete.\n",
            "Without wd  1\n",
            "Epoch 0, Loss: 5.5513e-02\n",
            "Epoch 0, Loss data: 2.9067e-02\n",
            "Epoch 0, Validation MSE: 4.0314e-02\n",
            "Epoch 500, Loss: 1.0753e-02\n",
            "Epoch 500, Loss data: 1.0717e-02\n",
            "Epoch 500, Validation MSE: 2.6949e-02\n",
            "Epoch 1000, Loss: 1.0679e-02\n",
            "Epoch 1000, Loss data: 1.0634e-02\n",
            "Epoch 1000, Validation MSE: 2.7565e-02\n",
            "Epoch 1500, Loss: 1.0496e-02\n",
            "Epoch 1500, Loss data: 1.0441e-02\n",
            "Epoch 1500, Validation MSE: 2.8935e-02\n",
            "Epoch 2000, Loss: 9.8485e-03\n",
            "Epoch 2000, Loss data: 9.7742e-03\n",
            "Epoch 2000, Validation MSE: 3.6975e-02\n",
            "Epoch 2500, Loss: 8.7252e-03\n",
            "Epoch 2500, Loss data: 8.6171e-03\n",
            "Epoch 2500, Validation MSE: 6.6529e-02\n",
            "Epoch 3000, Loss: 8.1321e-03\n",
            "Epoch 3000, Loss data: 7.9588e-03\n",
            "Epoch 3000, Validation MSE: 9.2237e-02\n",
            "Epoch 3500, Loss: 7.6163e-03\n",
            "Epoch 3500, Loss data: 7.5489e-03\n",
            "Epoch 3500, Validation MSE: 1.1024e-01\n",
            "Epoch 4000, Loss: 7.4532e-03\n",
            "Epoch 4000, Loss data: 7.4091e-03\n",
            "Epoch 4000, Validation MSE: 1.1322e-01\n",
            "Epoch 4500, Loss: 7.3676e-03\n",
            "Epoch 4500, Loss data: 7.3317e-03\n",
            "Epoch 4500, Validation MSE: 1.0955e-01\n",
            "Epoch 5000, Loss: 7.2999e-03\n",
            "Epoch 5000, Loss data: 7.2688e-03\n",
            "Epoch 5000, Validation MSE: 1.0385e-01\n",
            "Training complete.\n",
            "With weight decay  2\n",
            "Epoch 0, Loss: 8.4589e-02\n",
            "Epoch 0, Loss data: 8.2187e-02\n",
            "Epoch 0, Validation MSE: 2.2402e-02\n",
            "Epoch 500, Loss: 5.6794e-02\n",
            "Epoch 500, Loss data: 4.5866e-02\n",
            "Epoch 500, Validation MSE: 2.0627e-02\n",
            "Epoch 1000, Loss: 5.6615e-02\n",
            "Epoch 1000, Loss data: 4.5494e-02\n",
            "Epoch 1000, Validation MSE: 2.0584e-02\n",
            "Epoch 1500, Loss: 5.6535e-02\n",
            "Epoch 1500, Loss data: 4.5294e-02\n",
            "Epoch 1500, Validation MSE: 2.0476e-02\n",
            "Epoch 2000, Loss: 5.6515e-02\n",
            "Epoch 2000, Loss data: 4.5245e-02\n",
            "Epoch 2000, Validation MSE: 2.0454e-02\n",
            "Epoch 2500, Loss: 5.6508e-02\n",
            "Epoch 2500, Loss data: 4.5230e-02\n",
            "Epoch 2500, Validation MSE: 2.0449e-02\n",
            "Epoch 3000, Loss: 5.6508e-02\n",
            "Epoch 3000, Loss data: 4.5228e-02\n",
            "Epoch 3000, Validation MSE: 2.0286e-02\n",
            "Epoch 3500, Loss: 5.6508e-02\n",
            "Epoch 3500, Loss data: 4.5230e-02\n",
            "Epoch 3500, Validation MSE: 2.0455e-02\n",
            "Epoch 4000, Loss: 5.6506e-02\n",
            "Epoch 4000, Loss data: 4.5228e-02\n",
            "Epoch 4000, Validation MSE: 2.0464e-02\n",
            "Epoch 4500, Loss: 5.6501e-02\n",
            "Epoch 4500, Loss data: 4.5215e-02\n",
            "Epoch 4500, Validation MSE: 2.0377e-02\n",
            "Epoch 5000, Loss: 5.6501e-02\n",
            "Epoch 5000, Loss data: 4.5215e-02\n",
            "Epoch 5000, Validation MSE: 2.0411e-02\n",
            "Training complete.\n",
            "Without wd  2\n",
            "Epoch 0, Loss: 8.2914e-02\n",
            "Epoch 0, Loss data: 8.2187e-02\n",
            "Epoch 0, Validation MSE: 2.2409e-02\n",
            "Epoch 500, Loss: 1.1249e-02\n",
            "Epoch 500, Loss data: 1.0174e-02\n",
            "Epoch 500, Validation MSE: 1.5755e-02\n",
            "Epoch 1000, Loss: 7.4590e-03\n",
            "Epoch 1000, Loss data: 7.0803e-03\n",
            "Epoch 1000, Validation MSE: 2.4635e-02\n",
            "Epoch 1500, Loss: 7.1272e-03\n",
            "Epoch 1500, Loss data: 6.9218e-03\n",
            "Epoch 1500, Validation MSE: 2.5905e-02\n",
            "Epoch 2000, Loss: 6.9178e-03\n",
            "Epoch 2000, Loss data: 6.8380e-03\n",
            "Epoch 2000, Validation MSE: 2.5264e-02\n",
            "Epoch 2500, Loss: 6.8413e-03\n",
            "Epoch 2500, Loss data: 6.7842e-03\n",
            "Epoch 2500, Validation MSE: 2.4466e-02\n",
            "Epoch 3000, Loss: 6.7864e-03\n",
            "Epoch 3000, Loss data: 6.7384e-03\n",
            "Epoch 3000, Validation MSE: 2.3620e-02\n",
            "Epoch 3500, Loss: 6.7422e-03\n",
            "Epoch 3500, Loss data: 6.6983e-03\n",
            "Epoch 3500, Validation MSE: 2.2840e-02\n",
            "Epoch 4000, Loss: 6.7081e-03\n",
            "Epoch 4000, Loss data: 6.6636e-03\n",
            "Epoch 4000, Validation MSE: 2.2171e-02\n",
            "Epoch 4500, Loss: 6.6770e-03\n",
            "Epoch 4500, Loss data: 6.6344e-03\n",
            "Epoch 4500, Validation MSE: 2.1566e-02\n",
            "Epoch 5000, Loss: 6.6509e-03\n",
            "Epoch 5000, Loss data: 6.6076e-03\n",
            "Epoch 5000, Validation MSE: 2.1036e-02\n",
            "Training complete.\n",
            "With weight decay  3\n",
            "Epoch 0, Loss: 3.5316e-02\n",
            "Epoch 0, Loss data: 1.3221e-02\n",
            "Epoch 0, Validation MSE: 2.5750e-02\n",
            "Epoch 500, Loss: 7.2121e-03\n",
            "Epoch 500, Loss data: 7.1766e-03\n",
            "Epoch 500, Validation MSE: 2.7276e-02\n",
            "Epoch 1000, Loss: 7.2979e-03\n",
            "Epoch 1000, Loss data: 7.2790e-03\n",
            "Epoch 1000, Validation MSE: 2.6646e-02\n",
            "Epoch 1500, Loss: 7.3225e-03\n",
            "Epoch 1500, Loss data: 7.3069e-03\n",
            "Epoch 1500, Validation MSE: 2.6389e-02\n",
            "Epoch 2000, Loss: 7.3262e-03\n",
            "Epoch 2000, Loss data: 7.3158e-03\n",
            "Epoch 2000, Validation MSE: 2.6340e-02\n",
            "Epoch 2500, Loss: 7.3312e-03\n",
            "Epoch 2500, Loss data: 7.3232e-03\n",
            "Epoch 2500, Validation MSE: 2.6318e-02\n",
            "Epoch 3000, Loss: 7.3368e-03\n",
            "Epoch 3000, Loss data: 7.3306e-03\n",
            "Epoch 3000, Validation MSE: 2.6284e-02\n",
            "Epoch 3500, Loss: 7.3422e-03\n",
            "Epoch 3500, Loss data: 7.3371e-03\n",
            "Epoch 3500, Validation MSE: 2.6238e-02\n",
            "Epoch 4000, Loss: 7.3464e-03\n",
            "Epoch 4000, Loss data: 7.3417e-03\n",
            "Epoch 4000, Validation MSE: 2.6199e-02\n",
            "Epoch 4500, Loss: 7.3476e-03\n",
            "Epoch 4500, Loss data: 7.3429e-03\n",
            "Epoch 4500, Validation MSE: 2.6188e-02\n",
            "Epoch 5000, Loss: 7.3476e-03\n",
            "Epoch 5000, Loss data: 7.3429e-03\n",
            "Epoch 5000, Validation MSE: 2.6188e-02\n",
            "Training complete.\n",
            "Without wd  3\n",
            "Epoch 0, Loss: 3.3623e-02\n",
            "Epoch 0, Loss data: 1.3221e-02\n",
            "Epoch 0, Validation MSE: 2.5724e-02\n",
            "Epoch 500, Loss: 6.4276e-03\n",
            "Epoch 500, Loss data: 6.3347e-03\n",
            "Epoch 500, Validation MSE: 3.4104e-02\n",
            "Epoch 1000, Loss: 4.0133e-03\n",
            "Epoch 1000, Loss data: 3.8915e-03\n",
            "Epoch 1000, Validation MSE: 3.8816e-02\n",
            "Epoch 1500, Loss: 3.7225e-03\n",
            "Epoch 1500, Loss data: 3.6759e-03\n",
            "Epoch 1500, Validation MSE: 4.4938e-02\n",
            "Epoch 2000, Loss: 3.6555e-03\n",
            "Epoch 2000, Loss data: 3.6274e-03\n",
            "Epoch 2000, Validation MSE: 4.8394e-02\n",
            "Epoch 2500, Loss: 3.6054e-03\n",
            "Epoch 2500, Loss data: 3.5826e-03\n",
            "Epoch 2500, Validation MSE: 5.1867e-02\n",
            "Epoch 3000, Loss: 3.5709e-03\n",
            "Epoch 3000, Loss data: 3.5464e-03\n",
            "Epoch 3000, Validation MSE: 5.5176e-02\n",
            "Epoch 3500, Loss: 3.5463e-03\n",
            "Epoch 3500, Loss data: 3.5203e-03\n",
            "Epoch 3500, Validation MSE: 5.8176e-02\n",
            "Epoch 4000, Loss: 3.5279e-03\n",
            "Epoch 4000, Loss data: 3.5016e-03\n",
            "Epoch 4000, Validation MSE: 6.0814e-02\n",
            "Epoch 4500, Loss: 3.5125e-03\n",
            "Epoch 4500, Loss data: 3.4859e-03\n",
            "Epoch 4500, Validation MSE: 6.3375e-02\n",
            "Epoch 5000, Loss: 3.4993e-03\n",
            "Epoch 5000, Loss data: 3.4740e-03\n",
            "Epoch 5000, Validation MSE: 6.5497e-02\n",
            "Training complete.\n",
            "With weight decay  4\n",
            "Epoch 0, Loss: 1.6483e-02\n",
            "Epoch 0, Loss data: 1.0673e-02\n",
            "Epoch 0, Validation MSE: 4.4278e-02\n",
            "Epoch 500, Loss: 8.2067e-03\n",
            "Epoch 500, Loss data: 7.9719e-03\n",
            "Epoch 500, Validation MSE: 3.8966e-02\n",
            "Epoch 1000, Loss: 8.2167e-03\n",
            "Epoch 1000, Loss data: 8.0078e-03\n",
            "Epoch 1000, Validation MSE: 3.8626e-02\n",
            "Epoch 1500, Loss: 8.2311e-03\n",
            "Epoch 1500, Loss data: 8.0385e-03\n",
            "Epoch 1500, Validation MSE: 3.8500e-02\n",
            "Epoch 2000, Loss: 8.2358e-03\n",
            "Epoch 2000, Loss data: 8.0463e-03\n",
            "Epoch 2000, Validation MSE: 3.8478e-02\n",
            "Epoch 2500, Loss: 8.2363e-03\n",
            "Epoch 2500, Loss data: 8.0471e-03\n",
            "Epoch 2500, Validation MSE: 3.8476e-02\n",
            "Epoch 3000, Loss: 8.2363e-03\n",
            "Epoch 3000, Loss data: 8.0472e-03\n",
            "Epoch 3000, Validation MSE: 3.8475e-02\n",
            "Epoch 3500, Loss: 8.2364e-03\n",
            "Epoch 3500, Loss data: 8.0472e-03\n",
            "Epoch 3500, Validation MSE: 3.8475e-02\n",
            "Epoch 4000, Loss: 8.2364e-03\n",
            "Epoch 4000, Loss data: 8.0472e-03\n",
            "Epoch 4000, Validation MSE: 3.8474e-02\n",
            "Epoch 4500, Loss: 8.2364e-03\n",
            "Epoch 4500, Loss data: 8.0472e-03\n",
            "Epoch 4500, Validation MSE: 3.8473e-02\n",
            "Epoch 5000, Loss: 8.2364e-03\n",
            "Epoch 5000, Loss data: 8.0472e-03\n",
            "Epoch 5000, Validation MSE: 3.8472e-02\n",
            "Training complete.\n",
            "Without wd  4\n",
            "Epoch 0, Loss: 1.2987e-02\n",
            "Epoch 0, Loss data: 1.0673e-02\n",
            "Epoch 0, Validation MSE: 4.5672e-02\n",
            "Epoch 500, Loss: 7.3175e-03\n",
            "Epoch 500, Loss data: 7.1894e-03\n",
            "Epoch 500, Validation MSE: 4.1166e-02\n",
            "Epoch 1000, Loss: 5.2228e-03\n",
            "Epoch 1000, Loss data: 5.0598e-03\n",
            "Epoch 1000, Validation MSE: 2.8298e-02\n",
            "Epoch 1500, Loss: 3.6907e-03\n",
            "Epoch 1500, Loss data: 3.5392e-03\n",
            "Epoch 1500, Validation MSE: 2.3766e-02\n",
            "Epoch 2000, Loss: 3.3546e-03\n",
            "Epoch 2000, Loss data: 3.2415e-03\n",
            "Epoch 2000, Validation MSE: 2.4416e-02\n",
            "Epoch 2500, Loss: 3.1682e-03\n",
            "Epoch 2500, Loss data: 3.0786e-03\n",
            "Epoch 2500, Validation MSE: 2.6039e-02\n",
            "Epoch 3000, Loss: 3.0377e-03\n",
            "Epoch 3000, Loss data: 2.9549e-03\n",
            "Epoch 3000, Validation MSE: 2.7521e-02\n",
            "Epoch 3500, Loss: 2.9428e-03\n",
            "Epoch 3500, Loss data: 2.8556e-03\n",
            "Epoch 3500, Validation MSE: 2.8786e-02\n",
            "Epoch 4000, Loss: 2.8600e-03\n",
            "Epoch 4000, Loss data: 2.7694e-03\n",
            "Epoch 4000, Validation MSE: 3.0083e-02\n",
            "Epoch 4500, Loss: 2.7791e-03\n",
            "Epoch 4500, Loss data: 2.6885e-03\n",
            "Epoch 4500, Validation MSE: 3.1536e-02\n",
            "Epoch 5000, Loss: 2.7035e-03\n",
            "Epoch 5000, Loss data: 2.6131e-03\n",
            "Epoch 5000, Validation MSE: 3.3090e-02\n",
            "Training complete.\n",
            "With weight decay  5\n",
            "Epoch 0, Loss: 1.6567e-01\n",
            "Epoch 0, Loss data: 1.5540e-01\n",
            "Epoch 0, Validation MSE: 7.5537e-02\n",
            "Epoch 500, Loss: 3.6382e-02\n",
            "Epoch 500, Loss data: 2.7960e-02\n",
            "Epoch 500, Validation MSE: 1.4602e-02\n",
            "Epoch 1000, Loss: 3.6317e-02\n",
            "Epoch 1000, Loss data: 2.7717e-02\n",
            "Epoch 1000, Validation MSE: 1.4555e-02\n",
            "Epoch 1500, Loss: 3.6197e-02\n",
            "Epoch 1500, Loss data: 2.7463e-02\n",
            "Epoch 1500, Validation MSE: 1.4487e-02\n",
            "Epoch 2000, Loss: 3.5998e-02\n",
            "Epoch 2000, Loss data: 2.7131e-02\n",
            "Epoch 2000, Validation MSE: 1.4397e-02\n",
            "Epoch 2500, Loss: 3.5942e-02\n",
            "Epoch 2500, Loss data: 2.7020e-02\n",
            "Epoch 2500, Validation MSE: 1.4375e-02\n",
            "Epoch 3000, Loss: 3.5933e-02\n",
            "Epoch 3000, Loss data: 2.6999e-02\n",
            "Epoch 3000, Validation MSE: 1.4378e-02\n",
            "Epoch 3500, Loss: 3.5934e-02\n",
            "Epoch 3500, Loss data: 2.7000e-02\n",
            "Epoch 3500, Validation MSE: 1.4381e-02\n",
            "Epoch 4000, Loss: 3.5933e-02\n",
            "Epoch 4000, Loss data: 2.7009e-02\n",
            "Epoch 4000, Validation MSE: 1.4334e-02\n",
            "Epoch 4500, Loss: 3.5932e-02\n",
            "Epoch 4500, Loss data: 2.6994e-02\n",
            "Epoch 4500, Validation MSE: 1.4376e-02\n",
            "Epoch 5000, Loss: 3.5931e-02\n",
            "Epoch 5000, Loss data: 2.6992e-02\n",
            "Epoch 5000, Validation MSE: 1.4375e-02\n",
            "Training complete.\n",
            "Without wd  5\n",
            "Epoch 0, Loss: 1.6338e-01\n",
            "Epoch 0, Loss data: 1.5540e-01\n",
            "Epoch 0, Validation MSE: 7.5529e-02\n",
            "Epoch 500, Loss: 1.1952e-02\n",
            "Epoch 500, Loss data: 1.1641e-02\n",
            "Epoch 500, Validation MSE: 2.0631e-02\n",
            "Epoch 1000, Loss: 4.7828e-03\n",
            "Epoch 1000, Loss data: 4.0945e-03\n",
            "Epoch 1000, Validation MSE: 8.9326e-03\n",
            "Epoch 1500, Loss: 1.6973e-03\n",
            "Epoch 1500, Loss data: 1.3510e-03\n",
            "Epoch 1500, Validation MSE: 5.4643e-03\n",
            "Epoch 2000, Loss: 1.1504e-03\n",
            "Epoch 2000, Loss data: 9.8838e-04\n",
            "Epoch 2000, Validation MSE: 5.8412e-03\n",
            "Epoch 2500, Loss: 9.4006e-04\n",
            "Epoch 2500, Loss data: 8.2564e-04\n",
            "Epoch 2500, Validation MSE: 6.0407e-03\n",
            "Epoch 3000, Loss: 7.8136e-04\n",
            "Epoch 3000, Loss data: 7.0136e-04\n",
            "Epoch 3000, Validation MSE: 6.2997e-03\n",
            "Epoch 3500, Loss: 6.5795e-04\n",
            "Epoch 3500, Loss data: 6.0136e-04\n",
            "Epoch 3500, Validation MSE: 6.6890e-03\n",
            "Epoch 4000, Loss: 5.7656e-04\n",
            "Epoch 4000, Loss data: 5.2785e-04\n",
            "Epoch 4000, Validation MSE: 7.1239e-03\n",
            "Epoch 4500, Loss: 5.2634e-04\n",
            "Epoch 4500, Loss data: 4.7747e-04\n",
            "Epoch 4500, Validation MSE: 7.5118e-03\n",
            "Epoch 5000, Loss: 4.9511e-04\n",
            "Epoch 5000, Loss data: 4.4722e-04\n",
            "Epoch 5000, Validation MSE: 7.7971e-03\n",
            "Training complete.\n"
          ]
        }
      ]
    },
    {
      "cell_type": "code",
      "source": [
        "def log_10(err):\n",
        "  return np.log10(np.mean(np.array(err), axis=0))\n",
        "\n",
        "x_lab = [500*i for i in range(11)]\n",
        "\n",
        "plt.plot(x_lab, log_10(training_wd), c='red', linestyle=\"--\", label=\"Training error (regularized)\")\n",
        "plt.plot(x_lab, log_10(validation_wd), c='red', label=\"Test error (regularized)\")\n",
        "plt.plot(x_lab, log_10(training),  c=\"black\", linestyle=\"--\", label=\"Training error \")\n",
        "plt.plot(x_lab, log_10(validation),  c='black', label=\"Test error\")\n",
        "plt.xlabel(\"Gradient step\")\n",
        "plt.ylabel(\"Log of error\")\n",
        "plt.title(\"Average performance of regularized and vanilla PINNs over 5 runs.\")\n",
        "plt.legend()\n",
        "plt.show()"
      ],
      "metadata": {
        "colab": {
          "base_uri": "https://localhost:8080/",
          "height": 472
        },
        "id": "XJtSouSMQn2q",
        "outputId": "23ae89fd-6619-418f-8642-f2b21ed087ce"
      },
      "execution_count": null,
      "outputs": [
        {
          "output_type": "display_data",
          "data": {
            "text/plain": [
              "<Figure size 640x480 with 1 Axes>"
            ],
            "image/png": "[encoded data removed]"
          },
          "metadata": {}
        }
      ]
    },
    {
      "cell_type": "markdown",
      "source": [
        "**Question 17.** Using the theoretical properties developped in the lectures,  explain the results."
      ],
      "metadata": {
        "id": "IXvqkzB1qdw8"
      }
    },
    {
      "cell_type": "markdown",
      "source": [
        "# 6- Going Further\n",
        "\n",
        "PINNs are interesting because they adapt seamlessly to many contexts in PDE solving and hybrid modelling without  increasing the complexity of the algorithm.\n",
        "\n",
        "\n",
        "**Question 18: Nonlinear PDEs** Nonlinear PDEs are notoriously difficult to solve. However, implementing PINNs to solve nonlinear PDEs is straightforward.  Implement a PINN to solve the Burgers equation $$\\partial_1 f + f \\partial_2 f = 0$$ on the square $[0,1]$ with initial conditions $f(0,x) = 1+x$ and boundary conditions $$f(t,0) = \\frac{1}{1+t}.$$ Compare it with the values of the unique solution $f(t,x) = \\frac{1+x}{1+t}$.\n",
        "(Hint: You only need to change the function *pde_residual* and to get rid of the boundary and initial conditions)."
      ],
      "metadata": {
        "id": "NKPOWIoNJzrP"
      }
    },
    {
      "cell_type": "markdown",
      "source": [
        "**Question 19: General geometries.** Solving PDEs on complex geometries often results in complicated meshes when using classical techniques However, PINNs can be easily implemented to solve PDEs on general geometries. Implement a PINN to solve the Laplace equation $$\\partial^2_{1,1} f + \\partial^2_{2,2} f + \\partial^3_{3,3} f = 6$$ on the ball $\\{(x_1, x_2, x_3)\\in \\mathbb R^3, \\; x_1^2 + x_2^2+x_3^3 \\leq 1\\}$ with boundary conditions\n",
        "* $f(x_1,x_2,x_3) = x_1^2+x_2^2+x_3^2$ if $x_1^2+x_2^2+x_3^2 = 1$.\n",
        "\n",
        "Compare these values with those of the solution $f(x_1,x_2, x_3) = x_1^2+x_2^2+x_3^2$."
      ],
      "metadata": {
        "id": "igKBQvmoj69z"
      }
    }
  ]
}